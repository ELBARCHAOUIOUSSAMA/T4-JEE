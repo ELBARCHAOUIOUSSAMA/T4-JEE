{
 "cells": [
  {
   "cell_type": "markdown",
   "id": "8eed75f0",
   "metadata": {},
   "source": [
    "# Lab1_1_OUSSAMA: Classification des images de vetements "
   ]
  },
  {
   "cell_type": "code",
   "execution_count": 1,
   "id": "a1e9df4d",
   "metadata": {
    "tags": []
   },
   "outputs": [
    {
     "name": "stdout",
     "output_type": "stream",
     "text": [
      "2.12.0\n"
     ]
    }
   ],
   "source": [
    "# TensorFlow and tf.keras\n",
    "import tensorflow as tf\n",
    "\n",
    "# Helper libraries\n",
    "import numpy as np\n",
    "import matplotlib.pyplot as plt\n",
    "\n",
    "print(tf.__version__)"
   ]
  },
  {
   "cell_type": "markdown",
   "id": "12e7ff52",
   "metadata": {},
   "source": [
    "# Step1 : DataSet"
   ]
  },
  {
   "cell_type": "code",
   "execution_count": 7,
   "id": "3639b8a1",
   "metadata": {},
   "outputs": [
    {
     "name": "stdout",
     "output_type": "stream",
     "text": [
      "(60000, 28, 28)\n",
      "60000\n",
      "(10000, 28, 28)\n",
      "10000\n"
     ]
    }
   ],
   "source": [
    "fashion_mnist = tf.keras.datasets.fashion_mnist\n",
    "\n",
    "(train_images, train_labels), (test_images, test_labels) = fashion_mnist.load_data()\n",
    "class_names = ['T-shirt/top', 'Trouser', 'Pullover', 'Dress', 'Coat',\n",
    "               'Sandal', 'Shirt', 'Sneaker', 'Bag', 'Ankle boot']\n",
    "print(train_images.shape)\n",
    "print(len(train_labels))\n",
    "print(test_images.shape)\n",
    "print(len(test_labels))"
   ]
  },
  {
   "cell_type": "code",
   "execution_count": 15,
   "id": "d04acad8",
   "metadata": {},
   "outputs": [
    {
     "name": "stdout",
     "output_type": "stream",
     "text": [
      "Sandal\n",
      "[[  0   0   0   0   0   0   0   0   0   0   0   0   0   0   0   0   0   0\n",
      "    0   0   0   0   0   0   0   0   0   0]\n",
      " [  0   0   0   0   0   0   0   0   0   0   0   0   0   0   0   0   0   0\n",
      "    0   0   0   0   0   0   0   0   0   0]\n",
      " [  0   0   0   0   0   0   0   0   0   0   0   0   0   0   0   0   0   0\n",
      "    0   0   0   0   0   0   0   0   0   0]\n",
      " [  0   0   0   0   0   0   0   0   0   0   0   0   0   0   0   0   0   0\n",
      "    0   0   0   0   0   0   0   0   0   0]\n",
      " [  0   0   0   0   0   0   0   0   0   0   0   0   0   0   0   0   0   0\n",
      "    0   0   0   0   0   0   0   0   0   0]\n",
      " [  0   0   0   0   0   0   0   0   0   0   0   0   0   0   0   0   0   0\n",
      "    0   0   0   0   0   0   0   0   0   0]\n",
      " [  0   0   0   0   0   0   0   0   0   0   0   0   0   0   0   0   0   0\n",
      "    0   0   0   0   0   0   0   0   0   0]\n",
      " [  0   0   0   0   0   0   0   0   0   0   0   0   0   0   0   0   0   0\n",
      "    0   0   0   0   0   0   0   0   0   0]\n",
      " [  0   0   0   0   0   0   0   0   0   0   0   0   1   0   1  71  13   4\n",
      "    0   0   1   0   0   0   0   0   0   0]\n",
      " [  0   0   0   0   0   0   0   0   0   0   0   0   1   0  62  13   0  34\n",
      "    0   0   0   0   0   4  42  19   0   0]\n",
      " [  0   0   0   0   0   0   0   0   0   0   0   0   1   0 104  68   0  51\n",
      "   37  28  19  47  72  95 109  59   0   0]\n",
      " [  0   0   1   0   0   1   1   0   0   1   1   0   0   0   0 148 133  28\n",
      "   42  33  27  94  98  54  97  57   0   3]\n",
      " [  1   0   1   0   4   0   0   0   0   0   0   1   0   6   0  27 119 101\n",
      "    4  75  37  27  81 130  94   0   0   1]\n",
      " [  3   1   0   0   0   0 133 157   7  21   1   0   0   0   0   0   0 106\n",
      "  145  86   4  80 124  25   0   0   0   0]\n",
      " [  0   0   0   0   9  56 144 133 129 153  34   0   3   3   0   3   0  24\n",
      "  104  89 104 109   0   0   0   1   1   0]\n",
      " [  1   1   3   0  25 157 170 157 201 204  25   0   0   0   0   0   0  51\n",
      "   86  94  92   0   0   0   0   0   0   0]\n",
      " [  0   0   0   0   0  37  91   0   0  86   0   0   0  36  92 129 148  66\n",
      "  100  68  98 173 133 122 136 127 112  21]\n",
      " [ 22  27  19  37  44  83  59  56  45  51 163 177 173 200 176 177 188  66\n",
      "  122  89  92 183 174 185 180 177 177  47]\n",
      " [101 235 194 223 232 255  98  75  54 136  85 218 186 186 168 195 177  37\n",
      "   48  22  77 221 191 183 180 160 186  57]\n",
      " [  4  86  62  54  34  28  95  86  81  98  78  77  83  75  88  88  89  63\n",
      "   75  81  86  88  66  51  42  21  18   0]\n",
      " [  0   0   0   0   0   0   0   0   0   0   0   0   0   0   0   0   0   0\n",
      "    0   0   0   0   0   0   0   0   0   0]\n",
      " [  0   0   0   0   0   0   0   0   0   0   0   0   0   0   0   0   0   0\n",
      "    0   0   0   0   0   0   0   0   0   0]\n",
      " [  0   0   0   0   0   0   0   0   0   0   0   0   0   0   0   0   0   0\n",
      "    0   0   0   0   0   0   0   0   0   0]\n",
      " [  0   0   0   0   0   0   0   0   0   0   0   0   0   0   0   0   0   0\n",
      "    0   0   0   0   0   0   0   0   0   0]\n",
      " [  0   0   0   0   0   0   0   0   0   0   0   0   0   0   0   0   0   0\n",
      "    0   0   0   0   0   0   0   0   0   0]\n",
      " [  0   0   0   0   0   0   0   0   0   0   0   0   0   0   0   0   0   0\n",
      "    0   0   0   0   0   0   0   0   0   0]\n",
      " [  0   0   0   0   0   0   0   0   0   0   0   0   0   0   0   0   0   0\n",
      "    0   0   0   0   0   0   0   0   0   0]\n",
      " [  0   0   0   0   0   0   0   0   0   0   0   0   0   0   0   0   0   0\n",
      "    0   0   0   0   0   0   0   0   0   0]]\n"
     ]
    },
    {
     "data": {
      "image/png": "[encoded data removed]",
      "text/plain": [
       "<Figure size 640x480 with 2 Axes>"
      ]
     },
     "metadata": {},
     "output_type": "display_data"
    }
   ],
   "source": [
    "plt.figure()\n",
    "plt.imshow(train_images[-1],cmap=\"gray\")\n",
    "plt.colorbar()\n",
    "# plt.grid(False)\n",
    "# plt.show()\n",
    "print(class_names[train_labels [-1]])\n",
    "print(train_images[-1])"
   ]
  },
  {
   "cell_type": "markdown",
   "id": "46d2f196",
   "metadata": {},
   "source": [
    "# Step2: Model "
   ]
  },
  {
   "cell_type": "code",
   "execution_count": 11,
   "id": "989fae85",
   "metadata": {},
   "outputs": [],
   "source": [
    "model = tf.keras.Sequential([\n",
    "    tf.keras.layers.Flatten(input_shape=(28, 28)),\n",
    "    tf.keras.layers.Dense(128, activation='relu'),\n",
    "    tf.keras.layers.Dense(10)\n",
    "])"
   ]
  },
  {
   "cell_type": "code",
   "execution_count": null,
   "id": "6fc3eabf",
   "metadata": {},
   "outputs": [],
   "source": []
  },
  {
   "cell_type": "markdown",
   "id": "34dec67c",
   "metadata": {},
   "source": [
    "# Step3: Train"
   ]
  },
  {
   "cell_type": "code",
   "execution_count": null,
   "id": "c99529b1",
   "metadata": {},
   "outputs": [],
   "source": []
  },
  {
   "cell_type": "code",
   "execution_count": null,
   "id": "fe0b7283",
   "metadata": {},
   "outputs": [],
   "source": []
  },
  {
   "cell_type": "markdown",
   "id": "061a5b28",
   "metadata": {},
   "source": [
    "# Step4: Test"
   ]
  },
  {
   "cell_type": "code",
   "execution_count": null,
   "id": "cbc39beb",
   "metadata": {},
   "outputs": [],
   "source": []
  },
  {
   "cell_type": "code",
   "execution_count": null,
   "id": "dd7163a4",
   "metadata": {},
   "outputs": [],
   "source": []
  }
 ],
 "metadata": {
  "kernelspec": {
   "display_name": "Python 3 (ipykernel)",
   "language": "python",
   "name": "python3"
  },
  "language_info": {
   "codemirror_mode": {
    "name": "ipython",
    "version": 3
   },
   "file_extension": ".py",
   "mimetype": "text/x-python",
   "name": "python",
   "nbconvert_exporter": "python",
   "pygments_lexer": "ipython3",
   "version": "3.11.5"
  }
 },
 "nbformat": 4,
 "nbformat_minor": 5
}
